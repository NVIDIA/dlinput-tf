{
 "cells": [
  {
   "cell_type": "code",
   "execution_count": 1,
   "metadata": {},
   "outputs": [],
   "source": [
    "import math\n",
    "import time\n",
    "import argparse\n",
    "import numpy as np\n",
    "import tensorflow as tf\n",
    "from zmq_ops import ZmqOp"
   ]
  },
  {
   "cell_type": "code",
   "execution_count": 2,
   "metadata": {},
   "outputs": [],
   "source": [
    "# parser = argparse.ArgumentParser(description='Process some integers.')\n",
    "# parser.add_argument(\"-n\", \"--num\", type=int, default=100)\n",
    "\n",
    "\n",
    "# args = parser.parse_args()\n",
    "# num = args.num\n",
    "num = 1000\n",
    "\n",
    "#from tensorcom\n",
    "class Stats(object):\n",
    "    def __init__(self):\n",
    "        self.lo = float('Inf')\n",
    "        self.hi = -float('Inf')\n",
    "        self.sx = 0\n",
    "        self.sx2 = 0\n",
    "        self.n = 0\n",
    "\n",
    "    def __iadd__(self, x):\n",
    "        self.lo = min(self.lo, np.amin(x))\n",
    "        self.hi = max(self.hi, np.amax(x))\n",
    "        self.sx += np.sum(x)\n",
    "        self.sx2 += np.sum(x**2)\n",
    "        self.n += x.size\n",
    "        return self\n",
    "\n",
    "    def summary(self):\n",
    "        return \"[{:.3g} {:.3g}] mean={:.3g} std={:.3g} n={:d}\".format(\n",
    "            self.lo, self.hi,\n",
    "            self.sx/self.n,\n",
    "            (self.sx2/self.n - (self.sx/self.n)**2)**.5,\n",
    "            self.n\n",
    "        )\n",
    "\n",
    "\n",
    "shapes = set()\n",
    "count = 0\n",
    "total = 0\n",
    "stats = Stats()\n",
    "types = [tf.dtypes.as_dtype(np.dtype('float16')), tf.dtypes.as_dtype(np.dtype('int32'))]\n",
    "zmq_op = ZmqOp(address=\"zsub://127.0.0.1:7880\").pull(types)\n",
    "sess =  tf.Session()\n",
    "def load():\n",
    "    while True:\n",
    "        outs = sess.run(zmq_op)\n",
    "        yield outs\n"
   ]
  },
  {
   "cell_type": "code",
   "execution_count": 3,
   "metadata": {},
   "outputs": [
    {
     "name": "stdout",
     "output_type": "stream",
     "text": [
      "1000 batches, 32000 samples\n",
      "0.000473 s per batch, 1.48e-05 s per sample\n",
      "shapes: {('float16', 32, 1, 28, 28)}\n",
      "[-0.424 2.82] mean=-0.0463 std=0.948 n=25088000\n"
     ]
    }
   ],
   "source": [
    "count = 0\n",
    "total = 0\n",
    "\n",
    "start = time.time()\n",
    "\n",
    "for i, x in enumerate(load()):    \n",
    "#     if i > 0 and i % 100 == 0:\n",
    "#         print (i)\n",
    "    a = x[0]\n",
    "    count += 1\n",
    "    total += len(a)\n",
    "    shapes.add((str(a.dtype),) + tuple(a.shape))\n",
    "    stats += a.astype(np.float32)\n",
    "    if i == num - 1:\n",
    "        break\n",
    "finish = time.time()\n",
    "\n",
    "\n",
    "print(\"{} batches, {} samples\".format(count, total))\n",
    "print(\"{:.3g} s per batch, {:.3g} s per sample\".format(\n",
    "    (finish-start)/count, (finish-start)/total))\n",
    "print(\"shapes:\", shapes)\n",
    "print(stats.summary())"
   ]
  },
  {
   "cell_type": "code",
   "execution_count": null,
   "metadata": {},
   "outputs": [],
   "source": []
  }
 ],
 "metadata": {
  "kernelspec": {
   "display_name": "Python 3",
   "language": "python",
   "name": "python3"
  },
  "language_info": {
   "codemirror_mode": {
    "name": "ipython",
    "version": 3
   },
   "file_extension": ".py",
   "mimetype": "text/x-python",
   "name": "python",
   "nbconvert_exporter": "python",
   "pygments_lexer": "ipython3",
   "version": "3.5.2"
  }
 },
 "nbformat": 4,
 "nbformat_minor": 2
}
