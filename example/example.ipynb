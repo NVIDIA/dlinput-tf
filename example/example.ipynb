{
 "cells": [
  {
   "cell_type": "markdown",
   "metadata": {},
   "source": [
    "# Loading tensor data to Tensorflow"
   ]
  },
  {
   "cell_type": "markdown",
   "metadata": {},
   "source": [
    "Currently ZmqOp only accepts a list of tensors as valid input e.g. [np.array1, np.array2, np.array3 .....]\n",
    "and the input parameter types has to be [dtype of np.array1, dtype of np.array2, dtype of np.array3]\n",
    "it outputs [tensor1, tensor2, tensor3], data in tensor[i] == np.array[i]"
   ]
  },
  {
   "cell_type": "code",
   "execution_count": 1,
   "metadata": {},
   "outputs": [],
   "source": [
    "import time\n",
    "import numpy as np\n",
    "import zmq\n",
    "import msgpack\n",
    "\n",
    "import tensorflow as tf\n",
    "import multiprocessing as mp\n",
    "from nvzmq_ops import ZmqOp"
   ]
  },
  {
   "cell_type": "markdown",
   "metadata": {},
   "source": [
    "Set up some constant variables"
   ]
  },
  {
   "cell_type": "code",
   "execution_count": 2,
   "metadata": {},
   "outputs": [],
   "source": [
    "ADDR_EXAMPLE = 'zrpull://127.0.0.1:5555'\n",
    "SENDER_ADDR = 'tcp://127.0.0.1:5555'\n",
    "NUM_MSGS = 4\n",
    "\n",
    "#from tensorcom\n",
    "allowable_dtypes = {\"uint8\", \"uint16\", \"int16\", \"int32\", \"float16\", \"float32\", \"float64\"}"
   ]
  },
  {
   "cell_type": "markdown",
   "metadata": {},
   "source": [
    "Simple sender function, send each msg seperately. No multipart right now"
   ]
  },
  {
   "cell_type": "code",
   "execution_count": 3,
   "metadata": {},
   "outputs": [],
   "source": [
    "def send_msgs(addr, msgs):\n",
    "    try:\n",
    "        ctx = zmq.Context(1)\n",
    "        socket = ctx.socket(zmq.PUSH)\n",
    "        socket.bind(addr)\n",
    "        for msg in msgs:\n",
    "            socket.send(msg, )\n",
    "            time.sleep(len(msg) / 1000)\n",
    "    except Exception as e:\n",
    "        print(e)\n",
    "    finally:\n",
    "        socket.close()\n",
    "        ctx.term()"
   ]
  },
  {
   "cell_type": "markdown",
   "metadata": {},
   "source": [
    "Upstream input pipeline"
   ]
  },
  {
   "cell_type": "code",
   "execution_count": 4,
   "metadata": {},
   "outputs": [],
   "source": [
    "#from tensorcom\n",
    "def np2dict(a, parts=None, allow_float64=False):\n",
    "    \"\"\"Recursively convert numpy tensors in data structures to dictionaries.\"\"\"\n",
    "    if isinstance(a, np.ndarray):\n",
    "        assert allow_float64 or a.dtype != np.dtype(\"float64\")\n",
    "        dtype = str(a.dtype)\n",
    "        assert dtype in allowable_dtypes, dtype\n",
    "        if parts is None:\n",
    "            return dict(_shape=list(a.shape),\n",
    "                        _dtype=dtype,\n",
    "                        _data=a.tobytes())\n",
    "        else:\n",
    "            index = len(parts)\n",
    "            parts.append(a.tobytes())\n",
    "            return dict(_shape=list(a.shape),\n",
    "                        _dtype=dtype,\n",
    "                        _part=index)\n",
    "    elif isinstance(a, list):\n",
    "        return [np2dict(x, parts) for x in a]\n",
    "    elif isinstance(a, dict):\n",
    "        return {k: np2dict(v, parts) for k,v in a.items()}\n",
    "    else:\n",
    "        return a"
   ]
  },
  {
   "cell_type": "markdown",
   "metadata": {},
   "source": [
    "Start subprocess to send zmq msg. Call ZmqOp to pull data."
   ]
  },
  {
   "cell_type": "code",
   "execution_count": 5,
   "metadata": {},
   "outputs": [
    {
     "name": "stdout",
     "output_type": "stream",
     "text": [
      "types:  [tf.uint8, tf.uint8, tf.uint8, tf.uint8]\n",
      "[array([[0]], dtype=uint8), array([[0, 1],\n",
      "       [2, 3]], dtype=uint8), array([[0, 1, 2],\n",
      "       [3, 4, 5],\n",
      "       [6, 7, 8]], dtype=uint8), array([[ 0,  1,  2,  3],\n",
      "       [ 4,  5,  6,  7],\n",
      "       [ 8,  9, 10, 11],\n",
      "       [12, 13, 14, 15]], dtype=uint8)]\n"
     ]
    }
   ],
   "source": [
    "def example():\n",
    "    tensor_data_list, types = [], []\n",
    "    for i in range(1, NUM_MSGS + 1):\n",
    "        data = np.arange(i*i, dtype=np.uint8).reshape((i,i))\n",
    "        types.append(tf.dtypes.as_dtype(data.dtype))\n",
    "        tensor_data_list.append(data)\n",
    "    packed = msgpack.dumps(np2dict(tensor_data_list))\n",
    "    p = mp.Process(target=send_msgs, args=(SENDER_ADDR, [packed]))\n",
    "    p.start()\n",
    "    print ('types: ', types)\n",
    "    zmq_op = ZmqOp(address=ADDR_EXAMPLE)\n",
    "    \n",
    "    tensors = zmq_op.pull(types=types)\n",
    "    with tf.Session() as sess:\n",
    "        output = sess.run(tensors)\n",
    "        print (output)\n",
    "\n",
    "if __name__ == '__main__':\n",
    "    example()"
   ]
  }
 ],
 "metadata": {
  "kernelspec": {
   "display_name": "Python 3",
   "language": "python",
   "name": "python3"
  },
  "language_info": {
   "codemirror_mode": {
    "name": "ipython",
    "version": 3
   },
   "file_extension": ".py",
   "mimetype": "text/x-python",
   "name": "python",
   "nbconvert_exporter": "python",
   "pygments_lexer": "ipython3",
   "version": "3.5.2"
  }
 },
 "nbformat": 4,
 "nbformat_minor": 2
}
